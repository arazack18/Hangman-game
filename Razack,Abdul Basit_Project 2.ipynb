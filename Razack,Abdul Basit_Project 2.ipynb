{
 "cells": [
  {
   "cell_type": "code",
   "execution_count": 17,
   "metadata": {},
   "outputs": [],
   "source": [
    "import random\n",
    "\n",
    "def decrypt(ciphertext):\n",
    "    plaintext = \"\"\n",
    "    for i in range(len(ciphertext)):\n",
    "        if i < len(ciphertext):\n",
    "            if i%2 == 0:\n",
    "                cipher_ascii = ord(ciphertext[i])\n",
    "                plain_ascii = cipher_ascii - 1\n",
    "            else:\n",
    "                cipher_ascii = ord(ciphertext[i])\n",
    "                plain_ascii = cipher_ascii + 1\n",
    "            plaintext += chr(plain_ascii)\n",
    "    return plaintext\n",
    "    \n",
    "\n",
    "def hangman():\n",
    "    words = [\"WHDSPQZ\", \"XHO\", \"TTDBFRT\", \"QQJYF\", \"ENQD\", \"DNPK\", \"CNTR\", \"EHWHOD\", \"TSVMOHOF\", \"XNOCFQGTM\"]\n",
    "    word = random.choice(words)\n",
    "    lives = 10\n",
    "    letters = \"\"\n",
    "    curr = \"\"\n",
    "    for i in word:\n",
    "        curr += '*'\n",
    "    while lives > 0 and '*' in curr:\n",
    "        print(\"You have \" + str(lives) + \" left and have used these letters: \" + letters)\n",
    "        print(\"Current word: \" + curr)\n",
    "        guess = input(\"Guess a letter: \")\n",
    "        letters += guess + \", \"\n",
    "        if guess in word:\n",
    "            print(\"Good guess!\")\n",
    "            for i in range(len(word)):\n",
    "                if word[i] == guess:\n",
    "                    curr = curr[:i] + guess + curr[i + 1:]\n",
    "        else:\n",
    "            lives -= 1\n",
    "            print(\"Sorry, wrong guess\")\n",
    "    if lives == 0:\n",
    "        print(\"You ran out of lives :(. The word was \" + word)\n",
    "    else:\n",
    "        print(\"Great job! You guessed the word \" + word)\n",
    "        print(\"The decrypted word is: \" + decrypt(word))"
   ]
  },
  {
   "cell_type": "code",
   "execution_count": 18,
   "metadata": {},
   "outputs": [
    {
     "name": "stdout",
     "output_type": "stream",
     "text": [
      "You have 10 left and have used these letters: \n",
      "Current word: *******\n",
      "Guess a letter: W\n",
      "Sorry, wrong guess\n",
      "You have 9 left and have used these letters: W, \n",
      "Current word: *******\n",
      "Guess a letter: T\n",
      "Good guess!\n",
      "You have 9 left and have used these letters: W, T, \n",
      "Current word: TT****T\n",
      "Guess a letter: D\n",
      "Good guess!\n",
      "You have 9 left and have used these letters: W, T, D, \n",
      "Current word: TTD***T\n",
      "Guess a letter: B\n",
      "Good guess!\n",
      "You have 9 left and have used these letters: W, T, D, B, \n",
      "Current word: TTDB**T\n",
      "Guess a letter: F\n",
      "Good guess!\n",
      "You have 9 left and have used these letters: W, T, D, B, F, \n",
      "Current word: TTDBF*T\n",
      "Guess a letter: R\n",
      "Good guess!\n",
      "Great job! You guessed the word TTDBFRT\n",
      "The decrypted word is: SUCCESS\n"
     ]
    }
   ],
   "source": [
    "hangman()"
   ]
  },
  {
   "cell_type": "code",
   "execution_count": null,
   "metadata": {},
   "outputs": [],
   "source": []
  }
 ],
 "metadata": {
  "kernelspec": {
   "display_name": "Python 3",
   "language": "python",
   "name": "python3"
  },
  "language_info": {
   "codemirror_mode": {
    "name": "ipython",
    "version": 3
   },
   "file_extension": ".py",
   "mimetype": "text/x-python",
   "name": "python",
   "nbconvert_exporter": "python",
   "pygments_lexer": "ipython3",
   "version": "3.8.2"
  }
 },
 "nbformat": 4,
 "nbformat_minor": 2
}
